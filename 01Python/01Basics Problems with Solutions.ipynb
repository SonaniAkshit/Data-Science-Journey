{
 "cells": [
  {
   "cell_type": "markdown",
   "id": "5ada15da",
   "metadata": {},
   "source": [
    "1.Write a Python program to swap two variables."
   ]
  },
  {
   "cell_type": "code",
   "execution_count": 2,
   "id": "2b52349c",
   "metadata": {},
   "outputs": [
    {
     "name": "stdout",
     "output_type": "stream",
     "text": [
      "a: 10 b: 5\n"
     ]
    }
   ],
   "source": [
    "a = 5\n",
    "b = 10\n",
    "a, b = b, a\n",
    "print(\"a:\", a, \"b:\", b)\n"
   ]
  },
  {
   "cell_type": "markdown",
   "id": "bfe10537",
   "metadata": {},
   "source": [
    "2.Take user input and display it back to the user."
   ]
  },
  {
   "cell_type": "code",
   "execution_count": 3,
   "id": "d9d367a8",
   "metadata": {},
   "outputs": [
    {
     "name": "stdout",
     "output_type": "stream",
     "text": [
      "Hello akshit\n"
     ]
    }
   ],
   "source": [
    "name = input('Enter your name: ')\n",
    "print(f'Hello {name}')"
   ]
  },
  {
   "cell_type": "markdown",
   "id": "f05a2e28",
   "metadata": {},
   "source": [
    "3. Check if a number is even or odd"
   ]
  },
  {
   "cell_type": "code",
   "execution_count": 4,
   "id": "dcc31ff6",
   "metadata": {},
   "outputs": [
    {
     "name": "stdout",
     "output_type": "stream",
     "text": [
      "1 is Odd\n"
     ]
    }
   ],
   "source": [
    "num = int(input('Enter any number: '))\n",
    "\n",
    "if num%2 == 0:\n",
    "    print(f'{num} is Even')\n",
    "else:\n",
    "    print(f'{num} is Odd')"
   ]
  },
  {
   "cell_type": "markdown",
   "id": "15b579d2",
   "metadata": {},
   "source": [
    "4. Multiplication table of a number"
   ]
  },
  {
   "cell_type": "code",
   "execution_count": 3,
   "id": "cd5f7dd2",
   "metadata": {},
   "outputs": [
    {
     "name": "stdin",
     "output_type": "stream",
     "text": [
      "Enter number:  10\n"
     ]
    },
    {
     "name": "stdout",
     "output_type": "stream",
     "text": [
      "10X1=10\n",
      "10X2=20\n",
      "10X3=30\n",
      "10X4=40\n",
      "10X5=50\n",
      "10X6=60\n",
      "10X7=70\n",
      "10X8=80\n",
      "10X9=90\n",
      "10X10=100\n"
     ]
    }
   ],
   "source": [
    "n = int(input('Enter number: '))\n",
    "for i in range(1,11):\n",
    "    print(f'{n}X{i}={n * i}')"
   ]
  },
  {
   "cell_type": "markdown",
   "id": "993503f6-426b-4382-95a9-ba4f2b960e0f",
   "metadata": {},
   "source": [
    "5. Largest of three numbers"
   ]
  },
  {
   "cell_type": "code",
   "execution_count": 4,
   "id": "46713c01-7822-46c7-84dc-9d2f421721d3",
   "metadata": {},
   "outputs": [
    {
     "name": "stdin",
     "output_type": "stream",
     "text": [
      "Enter first number:  1\n",
      "Enter second number:  2\n",
      "Enter third number:  3\n"
     ]
    },
    {
     "name": "stdout",
     "output_type": "stream",
     "text": [
      "Largest: 3\n"
     ]
    }
   ],
   "source": [
    "a = int(input('Enter first number: '))\n",
    "b = int(input('Enter second number: '))\n",
    "c = int(input('Enter third number: '))\n",
    "print(f'Largest:',max(a,b,c))"
   ]
  },
  {
   "cell_type": "markdown",
   "id": "c69b92cf-1b61-4f13-b0c4-0578450a96d6",
   "metadata": {},
   "source": [
    "6. Celsius to Fahrenheit"
   ]
  },
  {
   "cell_type": "code",
   "execution_count": 5,
   "id": "0dc34423-dde9-40a8-85fa-909701d971b7",
   "metadata": {},
   "outputs": [
    {
     "name": "stdin",
     "output_type": "stream",
     "text": [
      "Enter temprature in celsius:  23\n"
     ]
    },
    {
     "name": "stdout",
     "output_type": "stream",
     "text": [
      "23.0°C = 73.4°F\n"
     ]
    }
   ],
   "source": [
    "c = float(input('Enter temprature in celsius: '))\n",
    "f = (c * 9/5) + 32\n",
    "print(f\"{c}°C = {f}°F\")"
   ]
  },
  {
   "cell_type": "markdown",
   "id": "a25f63fa-9846-421b-b5db-524129ab22c0",
   "metadata": {},
   "source": [
    "7. Factorial using a loop"
   ]
  },
  {
   "cell_type": "code",
   "execution_count": 7,
   "id": "6bd9fbbb-3656-442d-bbe9-53d1aac63d7d",
   "metadata": {},
   "outputs": [
    {
     "name": "stdin",
     "output_type": "stream",
     "text": [
      "Enter a number:  14\n"
     ]
    },
    {
     "name": "stdout",
     "output_type": "stream",
     "text": [
      "Factorial: 87178291200\n"
     ]
    }
   ],
   "source": [
    "n = int(input(\"Enter a number: \"))\n",
    "fact = 1\n",
    "for i in range(1, n+1):\n",
    "    fact *= i\n",
    "print(\"Factorial:\", fact)\n"
   ]
  },
  {
   "cell_type": "markdown",
   "id": "dba2974d-5cce-4fd3-bc73-7e5cdde74548",
   "metadata": {},
   "source": [
    "8. Count vowels in a string"
   ]
  },
  {
   "cell_type": "code",
   "execution_count": 8,
   "id": "420c28d6-d155-433d-9ea7-f5afe99f43de",
   "metadata": {},
   "outputs": [
    {
     "name": "stdin",
     "output_type": "stream",
     "text": [
      "Enter a string:  akshit\n"
     ]
    },
    {
     "name": "stdout",
     "output_type": "stream",
     "text": [
      "Vowel count: 2\n"
     ]
    }
   ],
   "source": [
    "s = input(\"Enter a string: \").lower()\n",
    "vowels = \"aeiou\"\n",
    "count = sum(1 for char in s if char in vowels)\n",
    "print(\"Vowel count:\", count)\n"
   ]
  },
  {
   "cell_type": "markdown",
   "id": "91b2e7fe-38eb-4909-b664-05097f2ef929",
   "metadata": {},
   "source": [
    "9. Reverse a string"
   ]
  },
  {
   "cell_type": "code",
   "execution_count": 9,
   "id": "60dc51ee-470d-482a-9f01-5a47b88b7a85",
   "metadata": {},
   "outputs": [
    {
     "name": "stdin",
     "output_type": "stream",
     "text": [
      "Enter a string:  akshit\n"
     ]
    },
    {
     "name": "stdout",
     "output_type": "stream",
     "text": [
      "Reversed: tihska\n"
     ]
    }
   ],
   "source": [
    "s = input(\"Enter a string: \")\n",
    "print(\"Reversed:\", s[::-1])\n"
   ]
  },
  {
   "cell_type": "markdown",
   "id": "7df2a53b-b42c-4393-b385-c8d40341cc4e",
   "metadata": {},
   "source": [
    "10. Palindrome number"
   ]
  },
  {
   "cell_type": "code",
   "execution_count": 12,
   "id": "1da6d46c-3da3-4a75-a07f-5e23a1b35c60",
   "metadata": {},
   "outputs": [
    {
     "name": "stdin",
     "output_type": "stream",
     "text": [
      "Enter a number:  132\n"
     ]
    },
    {
     "name": "stdout",
     "output_type": "stream",
     "text": [
      "Not Palindrome\n"
     ]
    }
   ],
   "source": [
    "num = input(\"Enter a number: \")\n",
    "print(\"Palindrome\" if num == num[::-1] else \"Not Palindrome\")\n"
   ]
  },
  {
   "cell_type": "markdown",
   "id": "47f118dc-164e-4162-a106-334e0a947a2f",
   "metadata": {},
   "source": [
    "11. Sum of first N numbers"
   ]
  },
  {
   "cell_type": "code",
   "execution_count": 14,
   "id": "1547e83c-349d-41c2-875c-2f1035c6a3b5",
   "metadata": {},
   "outputs": [
    {
     "name": "stdin",
     "output_type": "stream",
     "text": [
      "Enter N:  5\n"
     ]
    },
    {
     "name": "stdout",
     "output_type": "stream",
     "text": [
      "Sum: 15\n"
     ]
    }
   ],
   "source": [
    "n = int(input(\"Enter N: \"))\n",
    "print(\"Sum:\", n * (n+1) // 2)\n"
   ]
  },
  {
   "cell_type": "markdown",
   "id": "71343959-8959-4f4d-bd69-ed81c89f7df8",
   "metadata": {},
   "source": [
    "12. Number guessing game"
   ]
  },
  {
   "cell_type": "code",
   "execution_count": 16,
   "id": "eabaf69f-601b-4e78-8829-54045942e5b6",
   "metadata": {},
   "outputs": [
    {
     "name": "stdin",
     "output_type": "stream",
     "text": [
      "Guess (1-10):  1\n"
     ]
    },
    {
     "name": "stdout",
     "output_type": "stream",
     "text": [
      "Try again.\n"
     ]
    },
    {
     "name": "stdin",
     "output_type": "stream",
     "text": [
      "Guess (1-10):  2\n"
     ]
    },
    {
     "name": "stdout",
     "output_type": "stream",
     "text": [
      "Try again.\n"
     ]
    },
    {
     "name": "stdin",
     "output_type": "stream",
     "text": [
      "Guess (1-10):  3\n"
     ]
    },
    {
     "name": "stdout",
     "output_type": "stream",
     "text": [
      "Try again.\n"
     ]
    },
    {
     "name": "stdin",
     "output_type": "stream",
     "text": [
      "Guess (1-10):  4\n"
     ]
    },
    {
     "name": "stdout",
     "output_type": "stream",
     "text": [
      "Try again.\n"
     ]
    },
    {
     "name": "stdin",
     "output_type": "stream",
     "text": [
      "Guess (1-10):  5\n"
     ]
    },
    {
     "name": "stdout",
     "output_type": "stream",
     "text": [
      "Try again.\n"
     ]
    },
    {
     "name": "stdin",
     "output_type": "stream",
     "text": [
      "Guess (1-10):  6\n"
     ]
    },
    {
     "name": "stdout",
     "output_type": "stream",
     "text": [
      "Correct!\n"
     ]
    }
   ],
   "source": [
    "import random\n",
    "target = random.randint(1, 10)\n",
    "while True:\n",
    "    guess = int(input(\"Guess (1-10): \"))\n",
    "    if guess == target:\n",
    "        print(\"Correct!\")\n",
    "        break\n",
    "    else:\n",
    "        print(\"Try again.\")\n"
   ]
  },
  {
   "cell_type": "markdown",
   "id": "089ca3ca-09ef-4d74-a4ec-943511692e9a",
   "metadata": {},
   "source": [
    "13. Prime numbers 1–100"
   ]
  },
  {
   "cell_type": "code",
   "execution_count": 17,
   "id": "83d3c513-6c5b-4444-93b7-890cabfb1b71",
   "metadata": {},
   "outputs": [
    {
     "name": "stdout",
     "output_type": "stream",
     "text": [
      "2 3 5 7 11 13 17 19 23 29 31 37 41 43 47 53 59 61 67 71 73 79 83 89 97 "
     ]
    }
   ],
   "source": [
    "for num in range(2, 101):\n",
    "    if all(num % i != 0 for i in range(2, int(num**0.5)+1)):\n",
    "        print(num, end=\" \")\n"
   ]
  },
  {
   "cell_type": "markdown",
   "id": "94aa96f8-b0e8-49bf-b87f-5852df70bb4a",
   "metadata": {},
   "source": [
    "14. Leap year check"
   ]
  },
  {
   "cell_type": "code",
   "execution_count": 20,
   "id": "dd40b973-e874-461b-ba85-ce248046952a",
   "metadata": {},
   "outputs": [
    {
     "name": "stdin",
     "output_type": "stream",
     "text": [
      "Enter a year:  2000\n"
     ]
    },
    {
     "name": "stdout",
     "output_type": "stream",
     "text": [
      "Leap year\n"
     ]
    }
   ],
   "source": [
    "year = int(input(\"Enter a year: \"))\n",
    "if (year % 4 == 0 and year % 100 != 0) or (year % 400 == 0):\n",
    "    print(\"Leap year\")\n",
    "else:\n",
    "    print(\"Not leap year\")\n"
   ]
  },
  {
   "cell_type": "markdown",
   "id": "4a08c0f5-180f-4b1d-901d-e2287578c0aa",
   "metadata": {},
   "source": [
    "15. Fibonacci series"
   ]
  },
  {
   "cell_type": "code",
   "execution_count": 22,
   "id": "f98306db-f231-4799-883a-3da29143728f",
   "metadata": {},
   "outputs": [
    {
     "name": "stdin",
     "output_type": "stream",
     "text": [
      "Enter N:  10\n"
     ]
    },
    {
     "name": "stdout",
     "output_type": "stream",
     "text": [
      "0 1 1 2 3 5 8 13 21 34 "
     ]
    }
   ],
   "source": [
    "n = int(input(\"Enter N: \"))\n",
    "a, b = 0, 1\n",
    "for _ in range(n):\n",
    "    print(a, end=\" \")\n",
    "    a, b = b, a + b\n"
   ]
  },
  {
   "cell_type": "markdown",
   "id": "edc9bc8c-ee54-4f53-9890-289942ba9a15",
   "metadata": {},
   "source": [
    "16. GCD of two numbers"
   ]
  },
  {
   "cell_type": "code",
   "execution_count": 27,
   "id": "051b9b1e-5cef-4cc1-a221-b5bc8d701755",
   "metadata": {},
   "outputs": [
    {
     "name": "stdin",
     "output_type": "stream",
     "text": [
      "Enter two numbers:  55 50\n"
     ]
    },
    {
     "name": "stdout",
     "output_type": "stream",
     "text": [
      "GCD: 5\n"
     ]
    }
   ],
   "source": [
    "import math\n",
    "a, b = map(int, input(\"Enter two numbers: \").split())\n",
    "print(\"GCD:\", math.gcd(a, b))\n"
   ]
  },
  {
   "cell_type": "markdown",
   "id": "0093804c-5839-43a1-b455-fcb50062cd5e",
   "metadata": {},
   "source": [
    "17. LCM of two numbers"
   ]
  },
  {
   "cell_type": "code",
   "execution_count": 28,
   "id": "ca13dc59-bbe4-4971-b4b5-d2da2fef06ea",
   "metadata": {},
   "outputs": [
    {
     "name": "stdin",
     "output_type": "stream",
     "text": [
      "Enter two numbers:  12 32\n"
     ]
    },
    {
     "name": "stdout",
     "output_type": "stream",
     "text": [
      "LCM: 96\n"
     ]
    }
   ],
   "source": [
    "import math\n",
    "a, b = map(int, input(\"Enter two numbers: \").split())\n",
    "print(\"LCM:\", abs(a*b) // math.gcd(a, b))\n"
   ]
  },
  {
   "cell_type": "markdown",
   "id": "0b0538cb-3ae5-44c6-aa71-b64acb1a0a28",
   "metadata": {},
   "source": [
    "18. Vowel or consonant"
   ]
  },
  {
   "cell_type": "code",
   "execution_count": 29,
   "id": "3aa291b8-968e-41a1-bc7d-c39e1ee4a4ea",
   "metadata": {},
   "outputs": [
    {
     "name": "stdin",
     "output_type": "stream",
     "text": [
      "Enter a character:  a\n"
     ]
    },
    {
     "name": "stdout",
     "output_type": "stream",
     "text": [
      "Vowel\n"
     ]
    }
   ],
   "source": [
    "ch = input(\"Enter a character: \").lower()\n",
    "print(\"Vowel\" if ch in \"aeiou\" else \"Consonant\")\n"
   ]
  },
  {
   "cell_type": "markdown",
   "id": "e9936512-1edd-4bdf-a456-fdda03e07d33",
   "metadata": {},
   "source": [
    "19. Sum of digits"
   ]
  },
  {
   "cell_type": "code",
   "execution_count": 31,
   "id": "6f1451fb-4e4b-40f1-bd06-85ab257b2984",
   "metadata": {},
   "outputs": [
    {
     "name": "stdin",
     "output_type": "stream",
     "text": [
      "Enter a number:  43\n"
     ]
    },
    {
     "name": "stdout",
     "output_type": "stream",
     "text": [
      "Sum: 7\n"
     ]
    }
   ],
   "source": [
    "num = input(\"Enter a number: \")\n",
    "print(\"Sum:\", sum(int(d) for d in num))\n"
   ]
  },
  {
   "cell_type": "markdown",
   "id": "08475d74-aede-4547-871c-c38c67c7a640",
   "metadata": {},
   "source": [
    "20. Second largest in a list"
   ]
  },
  {
   "cell_type": "code",
   "execution_count": 32,
   "id": "73c6d7d0-fd32-4051-958a-4106282cf929",
   "metadata": {},
   "outputs": [
    {
     "name": "stdin",
     "output_type": "stream",
     "text": [
      "Enter numbers:  2 54 23 98 45 76\n"
     ]
    },
    {
     "name": "stdout",
     "output_type": "stream",
     "text": [
      "Second largest: 76\n"
     ]
    }
   ],
   "source": [
    "nums = list(map(int, input(\"Enter numbers: \").split()))\n",
    "print(\"Second largest:\", sorted(set(nums))[-2])\n"
   ]
  },
  {
   "cell_type": "markdown",
   "id": "b30ba9be-4fa2-4573-82a7-43ae0410b57e",
   "metadata": {},
   "source": [
    "21. Count digits in integer"
   ]
  },
  {
   "cell_type": "code",
   "execution_count": 34,
   "id": "ac5b2c23-e49f-435c-9cac-8b8e2afd27ee",
   "metadata": {},
   "outputs": [
    {
     "name": "stdin",
     "output_type": "stream",
     "text": [
      "Enter a number:  56728452\n"
     ]
    },
    {
     "name": "stdout",
     "output_type": "stream",
     "text": [
      "Digits: 8\n"
     ]
    }
   ],
   "source": [
    "num = input(\"Enter a number: \")\n",
    "print(\"Digits:\", len(num))\n"
   ]
  },
  {
   "cell_type": "markdown",
   "id": "2faa6502-e64e-4d88-8aeb-635b1dff10c2",
   "metadata": {},
   "source": [
    "22. Armstrong numbers (1–1000)"
   ]
  },
  {
   "cell_type": "code",
   "execution_count": 35,
   "id": "38c91b54-8a3d-4b2c-be4e-2cd0abb7bf11",
   "metadata": {},
   "outputs": [
    {
     "name": "stdout",
     "output_type": "stream",
     "text": [
      "1 153 370 371 407 "
     ]
    }
   ],
   "source": [
    "for num in range(1, 1001):\n",
    "    if num == sum(int(d)**3 for d in str(num)):\n",
    "        print(num, end=\" \")\n"
   ]
  },
  {
   "cell_type": "markdown",
   "id": "4aefddb6-420f-418c-8f7e-fe452d4dcc5a",
   "metadata": {},
   "source": [
    "23. Star triangle"
   ]
  },
  {
   "cell_type": "code",
   "execution_count": 36,
   "id": "7f4c4b2d-b9b9-4699-915b-977f8e468ace",
   "metadata": {},
   "outputs": [
    {
     "name": "stdin",
     "output_type": "stream",
     "text": [
      "Enter rows:  5\n"
     ]
    },
    {
     "name": "stdout",
     "output_type": "stream",
     "text": [
      "*\n",
      "**\n",
      "***\n",
      "****\n",
      "*****\n"
     ]
    }
   ],
   "source": [
    "n = int(input(\"Enter rows: \"))\n",
    "for i in range(1, n+1):\n",
    "    print(\"*\" * i)\n"
   ]
  },
  {
   "cell_type": "markdown",
   "id": "51688404-f7f6-4688-ac47-af9d8b75c40b",
   "metadata": {},
   "source": [
    "24. Simple calculator"
   ]
  },
  {
   "cell_type": "code",
   "execution_count": 37,
   "id": "ef97382e-d05c-4804-ab06-7a8484308059",
   "metadata": {},
   "outputs": [
    {
     "name": "stdin",
     "output_type": "stream",
     "text": [
      "Enter two numbers:  1 2\n",
      "Enter operator (+ - * /):  -\n"
     ]
    },
    {
     "name": "stdout",
     "output_type": "stream",
     "text": [
      "-1.0\n"
     ]
    }
   ],
   "source": [
    "a, b = map(float, input(\"Enter two numbers: \").split())\n",
    "op = input(\"Enter operator (+ - * /): \")\n",
    "if op == \"+\": print(a+b)\n",
    "elif op == \"-\": print(a-b)\n",
    "elif op == \"*\": print(a*b)\n",
    "elif op == \"/\": print(a/b)\n",
    "else: print(\"Invalid\")\n"
   ]
  },
  {
   "cell_type": "markdown",
   "id": "3f914a14-2917-45e6-aa8e-9615ba208cac",
   "metadata": {},
   "source": [
    "25. ASCII value of a character"
   ]
  },
  {
   "cell_type": "code",
   "execution_count": 40,
   "id": "b68712a3-9aa5-48a4-8d7f-19dc860a16cd",
   "metadata": {},
   "outputs": [
    {
     "name": "stdin",
     "output_type": "stream",
     "text": [
      "Enter a character:  A\n"
     ]
    },
    {
     "name": "stdout",
     "output_type": "stream",
     "text": [
      "ASCII: 65\n"
     ]
    }
   ],
   "source": [
    "ch = input(\"Enter a character: \")\n",
    "print(\"ASCII:\", ord(ch))\n"
   ]
  },
  {
   "cell_type": "markdown",
   "id": "825d19e2-209c-4083-af7b-020938a5a923",
   "metadata": {},
   "source": [
    "26. Decimal to Binary"
   ]
  },
  {
   "cell_type": "code",
   "execution_count": 41,
   "id": "665880f1-f04d-4086-9a84-24780119bdce",
   "metadata": {},
   "outputs": [
    {
     "name": "stdin",
     "output_type": "stream",
     "text": [
      "Enter a number:  12\n"
     ]
    },
    {
     "name": "stdout",
     "output_type": "stream",
     "text": [
      "Binary: 1100\n"
     ]
    }
   ],
   "source": [
    "n = int(input(\"Enter a number: \"))\n",
    "binary = \"\"\n",
    "while n > 0:\n",
    "    binary = str(n % 2) + binary\n",
    "    n //= 2\n",
    "print(\"Binary:\", binary)\n"
   ]
  },
  {
   "cell_type": "markdown",
   "id": "90077feb-b1da-4e10-8475-b810658704d4",
   "metadata": {},
   "source": [
    "27. Square root"
   ]
  },
  {
   "cell_type": "code",
   "execution_count": 43,
   "id": "55a9477c-4ee9-4590-aabb-5761d2204c79",
   "metadata": {},
   "outputs": [
    {
     "name": "stdin",
     "output_type": "stream",
     "text": [
      "Enter a number:  4\n"
     ]
    },
    {
     "name": "stdout",
     "output_type": "stream",
     "text": [
      "Square root: 2.0\n"
     ]
    }
   ],
   "source": [
    "import math\n",
    "n = float(input(\"Enter a number: \"))\n",
    "print(\"Square root:\", math.sqrt(n))\n"
   ]
  },
  {
   "cell_type": "markdown",
   "id": "49a0be51-b998-4791-9372-d7052000e1cb",
   "metadata": {},
   "source": [
    "28. Sum of even numbers in a list"
   ]
  },
  {
   "cell_type": "code",
   "execution_count": 44,
   "id": "6bb5c274-a4e3-4d9d-9d78-564cbe13e820",
   "metadata": {},
   "outputs": [
    {
     "name": "stdin",
     "output_type": "stream",
     "text": [
      "Enter numbers:  2 5 3 2 7 8\n"
     ]
    },
    {
     "name": "stdout",
     "output_type": "stream",
     "text": [
      "Sum of even numbers: 12\n"
     ]
    }
   ],
   "source": [
    "nums = list(map(int, input(\"Enter numbers: \").split()))\n",
    "print(\"Sum of even numbers:\", sum(x for x in nums if x % 2 == 0))\n"
   ]
  },
  {
   "cell_type": "markdown",
   "id": "cd311a46-9335-4c76-9cdd-155edf548e7a",
   "metadata": {},
   "source": [
    "29. Check if number is prime"
   ]
  },
  {
   "cell_type": "code",
   "execution_count": 45,
   "id": "97cbdd55-12b2-42a4-a474-7a5fe133939f",
   "metadata": {},
   "outputs": [
    {
     "name": "stdin",
     "output_type": "stream",
     "text": [
      "Enter a number:  12\n"
     ]
    },
    {
     "name": "stdout",
     "output_type": "stream",
     "text": [
      "Not Prime\n"
     ]
    }
   ],
   "source": [
    "n = int(input(\"Enter a number: \"))\n",
    "if n > 1 and all(n % i != 0 for i in range(2, int(n**0.5)+1)):\n",
    "    print(\"Prime\")\n",
    "else:\n",
    "    print(\"Not Prime\")\n"
   ]
  },
  {
   "cell_type": "code",
   "execution_count": null,
   "id": "65437005-0f95-47bb-9779-aeda94cb54f6",
   "metadata": {},
   "outputs": [],
   "source": []
  }
 ],
 "metadata": {
  "kernelspec": {
   "display_name": "Python 3 (ipykernel)",
   "language": "python",
   "name": "python3"
  },
  "language_info": {
   "codemirror_mode": {
    "name": "ipython",
    "version": 3
   },
   "file_extension": ".py",
   "mimetype": "text/x-python",
   "name": "python",
   "nbconvert_exporter": "python",
   "pygments_lexer": "ipython3",
   "version": "3.12.10"
  }
 },
 "nbformat": 4,
 "nbformat_minor": 5
}
