{
 "cells": [
  {
   "cell_type": "markdown",
   "id": "5ada15da",
   "metadata": {},
   "source": [
    "1.Write a Python program to swap two variables."
   ]
  },
  {
   "cell_type": "code",
   "execution_count": 2,
   "id": "2b52349c",
   "metadata": {},
   "outputs": [
    {
     "name": "stdout",
     "output_type": "stream",
     "text": [
      "a: 10 b: 5\n"
     ]
    }
   ],
   "source": [
    "a = 5\n",
    "b = 10\n",
    "a, b = b, a\n",
    "print(\"a:\", a, \"b:\", b)\n"
   ]
  },
  {
   "cell_type": "markdown",
   "id": "bfe10537",
   "metadata": {},
   "source": [
    "2.Take user input and display it back to the user."
   ]
  },
  {
   "cell_type": "code",
   "execution_count": 3,
   "id": "d9d367a8",
   "metadata": {},
   "outputs": [
    {
     "name": "stdout",
     "output_type": "stream",
     "text": [
      "Hello akshit\n"
     ]
    }
   ],
   "source": [
    "name = input('Enter your name: ')\n",
    "print(f'Hello {name}')"
   ]
  },
  {
   "cell_type": "markdown",
   "id": "f05a2e28",
   "metadata": {},
   "source": [
    "3. Check if a number is even or odd"
   ]
  },
  {
   "cell_type": "code",
   "execution_count": 4,
   "id": "dcc31ff6",
   "metadata": {},
   "outputs": [
    {
     "name": "stdout",
     "output_type": "stream",
     "text": [
      "1 is Odd\n"
     ]
    }
   ],
   "source": [
    "num = int(input('Enter any number: '))\n",
    "\n",
    "if num%2 == 0:\n",
    "    print(f'{num} is Even')\n",
    "else:\n",
    "    print(f'{num} is Odd')"
   ]
  },
  {
   "cell_type": "markdown",
   "id": "15b579d2",
   "metadata": {},
   "source": [
    "4. Multiplication table of a number"
   ]
  },
  {
   "cell_type": "code",
   "execution_count": 3,
   "id": "cd5f7dd2",
   "metadata": {},
   "outputs": [
    {
     "name": "stdin",
     "output_type": "stream",
     "text": [
      "Enter number:  10\n"
     ]
    },
    {
     "name": "stdout",
     "output_type": "stream",
     "text": [
      "10X1=10\n",
      "10X2=20\n",
      "10X3=30\n",
      "10X4=40\n",
      "10X5=50\n",
      "10X6=60\n",
      "10X7=70\n",
      "10X8=80\n",
      "10X9=90\n",
      "10X10=100\n"
     ]
    }
   ],
   "source": [
    "n = int(input('Enter number: '))\n",
    "for i in range(1,11):\n",
    "    print(f'{n}X{i}={n * i}')"
   ]
  },
  {
   "cell_type": "markdown",
   "id": "993503f6-426b-4382-95a9-ba4f2b960e0f",
   "metadata": {},
   "source": [
    "5. Largest of three numbers"
   ]
  },
  {
   "cell_type": "code",
   "execution_count": 4,
   "id": "46713c01-7822-46c7-84dc-9d2f421721d3",
   "metadata": {},
   "outputs": [
    {
     "name": "stdin",
     "output_type": "stream",
     "text": [
      "Enter first number:  1\n",
      "Enter second number:  2\n",
      "Enter third number:  3\n"
     ]
    },
    {
     "name": "stdout",
     "output_type": "stream",
     "text": [
      "Largest: 3\n"
     ]
    }
   ],
   "source": [
    "a = int(input('Enter first number: '))\n",
    "b = int(input('Enter second number: '))\n",
    "c = int(input('Enter third number: '))\n",
    "print(f'Largest:',max(a,b,c))"
   ]
  },
  {
   "cell_type": "markdown",
   "id": "c69b92cf-1b61-4f13-b0c4-0578450a96d6",
   "metadata": {},
   "source": [
    "6. Celsius to Fahrenheit"
   ]
  },
  {
   "cell_type": "code",
   "execution_count": 5,
   "id": "0dc34423-dde9-40a8-85fa-909701d971b7",
   "metadata": {},
   "outputs": [
    {
     "name": "stdin",
     "output_type": "stream",
     "text": [
      "Enter temprature in celsius:  23\n"
     ]
    },
    {
     "name": "stdout",
     "output_type": "stream",
     "text": [
      "23.0°C = 73.4°F\n"
     ]
    }
   ],
   "source": [
    "c = float(input('Enter temprature in celsius: '))\n",
    "f = (c * 9/5) + 32\n",
    "print(f\"{c}°C = {f}°F\")"
   ]
  },
  {
   "cell_type": "markdown",
   "id": "a25f63fa-9846-421b-b5db-524129ab22c0",
   "metadata": {},
   "source": [
    "7. Factorial using a loop"
   ]
  },
  {
   "cell_type": "code",
   "execution_count": null,
   "id": "6bd9fbbb-3656-442d-bbe9-53d1aac63d7d",
   "metadata": {},
   "outputs": [],
   "source": []
  }
 ],
 "metadata": {
  "kernelspec": {
   "display_name": "Python 3 (ipykernel)",
   "language": "python",
   "name": "python3"
  },
  "language_info": {
   "codemirror_mode": {
    "name": "ipython",
    "version": 3
   },
   "file_extension": ".py",
   "mimetype": "text/x-python",
   "name": "python",
   "nbconvert_exporter": "python",
   "pygments_lexer": "ipython3",
   "version": "3.12.10"
  }
 },
 "nbformat": 4,
 "nbformat_minor": 5
}
