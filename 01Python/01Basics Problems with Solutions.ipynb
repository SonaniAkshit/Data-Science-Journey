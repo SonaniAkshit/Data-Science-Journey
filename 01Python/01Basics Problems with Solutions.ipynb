{
 "cells": [
  {
   "cell_type": "markdown",
   "id": "f38c1079",
   "metadata": {},
   "source": [
    "***1.Write a Python program to swap two variables.***"
   ]
  },
  {
   "cell_type": "code",
   "execution_count": 24,
   "id": "b96e516c",
   "metadata": {},
   "outputs": [
    {
     "name": "stdout",
     "output_type": "stream",
     "text": [
      "a = 23\n",
      "b = 10\n"
     ]
    }
   ],
   "source": [
    "a = 10\n",
    "b = 23\n",
    "\n",
    "a = a + b\n",
    "b = a - b\n",
    "a = a - b\n",
    "\n",
    "print(\"a =\", a)\n",
    "print(\"b =\", b)"
   ]
  },
  {
   "cell_type": "markdown",
   "id": "6909cb84",
   "metadata": {},
   "source": [
    "***2. Take user input and display it back to the user.***\n"
   ]
  },
  {
   "cell_type": "code",
   "execution_count": 25,
   "id": "f875b14a",
   "metadata": {},
   "outputs": [
    {
     "name": "stdout",
     "output_type": "stream",
     "text": [
      "akshit\n"
     ]
    }
   ],
   "source": [
    "name = input('enter your name: ')\n",
    "print(name)"
   ]
  },
  {
   "cell_type": "markdown",
   "id": "1f2158d2",
   "metadata": {},
   "source": [
    "***3.Write a program to check if a number is even or odd.***"
   ]
  },
  {
   "cell_type": "code",
   "execution_count": 26,
   "id": "644be76c",
   "metadata": {},
   "outputs": [
    {
     "name": "stdout",
     "output_type": "stream",
     "text": [
      "10 is EVEN\n"
     ]
    }
   ],
   "source": [
    "num = int(input(\"Enter number: \"))\n",
    "\n",
    "if num % 2 == 0:\n",
    "    print(f'{num} is EVEN')\n",
    "else:\n",
    "    print(f'{num} is ODD')"
   ]
  },
  {
   "cell_type": "markdown",
   "id": "06117d07",
   "metadata": {},
   "source": [
    "***4. Create a program that prints the multiplication table of a given number.***"
   ]
  },
  {
   "cell_type": "code",
   "execution_count": 27,
   "id": "a210cc29",
   "metadata": {},
   "outputs": [
    {
     "name": "stdout",
     "output_type": "stream",
     "text": [
      "20 X 1 = 20\n",
      "20 X 2 = 40\n",
      "20 X 3 = 60\n",
      "20 X 4 = 80\n",
      "20 X 5 = 100\n",
      "20 X 6 = 120\n",
      "20 X 7 = 140\n",
      "20 X 8 = 160\n",
      "20 X 9 = 180\n",
      "20 X 10 = 200\n"
     ]
    }
   ],
   "source": [
    "num = int(input(\"Enter number you want to multpication table\"))\n",
    "\n",
    "for i in range(1,11):\n",
    "    print(f'{num} X {i} = {num*i}')"
   ]
  },
  {
   "cell_type": "markdown",
   "id": "debb328a",
   "metadata": {},
   "source": [
    "***5.Write a program to find the largest of three numbers.***"
   ]
  },
  {
   "cell_type": "code",
   "execution_count": 29,
   "id": "a0dcc84a",
   "metadata": {},
   "outputs": [
    {
     "name": "stdout",
     "output_type": "stream",
     "text": [
      "65 is largest number of three 65, 24 & 12 \n"
     ]
    }
   ],
   "source": [
    "num1 = int(input(\"Enter number 1: \"))\n",
    "num2 = int(input(\"Enter number 2: \"))\n",
    "num3 = int(input(\"Enter number 3: \"))\n",
    "\n",
    "print(f'{max(num1,num2,num3)} is largest number of three {num1}, {num2} & {num3} ')"
   ]
  },
  {
   "cell_type": "markdown",
   "id": "90a41d5b",
   "metadata": {},
   "source": [
    "***6.Convert temperature from Celsius to Fahrenheit.***\n"
   ]
  },
  {
   "cell_type": "code",
   "execution_count": 30,
   "id": "7de54289",
   "metadata": {},
   "outputs": [
    {
     "name": "stdout",
     "output_type": "stream",
     "text": [
      "Fahrenheit: 32.0\n"
     ]
    }
   ],
   "source": [
    "Celsius = int(input(\"Celsius: \"))\n",
    "\n",
    "Fahrenheit = (Celsius * 9/5) + 32\n",
    "\n",
    "print(f\"Fahrenheit: {Fahrenheit}\")"
   ]
  },
  {
   "cell_type": "code",
   "execution_count": null,
   "id": "648134c6",
   "metadata": {},
   "outputs": [],
   "source": []
  }
 ],
 "metadata": {
  "kernelspec": {
   "display_name": "Python 3",
   "language": "python",
   "name": "python3"
  },
  "language_info": {
   "codemirror_mode": {
    "name": "ipython",
    "version": 3
   },
   "file_extension": ".py",
   "mimetype": "text/x-python",
   "name": "python",
   "nbconvert_exporter": "python",
   "pygments_lexer": "ipython3",
   "version": "3.12.10"
  }
 },
 "nbformat": 4,
 "nbformat_minor": 5
}
