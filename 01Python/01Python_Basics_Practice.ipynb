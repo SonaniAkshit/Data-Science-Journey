{
 "cells": [
  {
   "cell_type": "markdown",
   "id": "5ada15da",
   "metadata": {},
   "source": [
    "1.Write a Python program to swap two variables."
   ]
  },
  {
   "cell_type": "code",
   "execution_count": null,
   "id": "2b52349c",
   "metadata": {},
   "outputs": [],
   "source": [
    "a = 5\n",
    "b = 10\n",
    "\n",
    "# swapping\n",
    "a, b = b, a  \n",
    "\n",
    "print(\"a =\", a, \"b =\", b)\n"
   ]
  }
 ],
 "metadata": {
  "language_info": {
   "name": "python"
  }
 },
 "nbformat": 4,
 "nbformat_minor": 5
}
